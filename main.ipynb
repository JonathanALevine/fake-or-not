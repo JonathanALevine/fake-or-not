{
 "cells": [
  {
   "cell_type": "code",
   "execution_count": 56,
   "metadata": {},
   "outputs": [],
   "source": [
    "%reset -f"
   ]
  },
  {
   "cell_type": "code",
   "execution_count": 57,
   "metadata": {},
   "outputs": [],
   "source": [
    "#!/usr/bin/env python3\n",
    "import pandas as pd\n",
    "from tqdm import tqdm\n",
    "from datetime import datetime\n",
    "import torch\n",
    "from torch import nn\n",
    "from torch.utils.data import DataLoader\n",
    "from torcheval.metrics import BinaryAccuracy\n",
    "from torcheval.metrics.functional import binary_accuracy\n",
    "torch.manual_seed(18)\n",
    "torch.cuda.is_available()\n",
    "from FaceNetV3 import FaceNetV3, ConvBlock\n",
    "from FacesDataset import FacesDataset"
   ]
  },
  {
   "cell_type": "code",
   "execution_count": 58,
   "metadata": {},
   "outputs": [],
   "source": [
    "def epoch_system_out_string(epoch:int, train_loss:float, train_acc:float, val_loss:float, val_acc:float, test_acc:float)->str:\n",
    "    return (f'Epoch: {epoch} -- train Loss: {round(train_loss, 4)} \\t valid Loss: {round(val_loss, 4)} \\t train acc.:{round(train_acc, 4)} \\t val acc.:{round(val_acc, 4)} \\t test acc.:{round(test_acc, 4)}')"
   ]
  },
  {
   "cell_type": "code",
   "execution_count": 59,
   "metadata": {},
   "outputs": [],
   "source": [
    "@torch.no_grad()\n",
    "def estimate_performance(model, data_loader, device='cuda'):\n",
    "    loss_value = 0.0\n",
    "    acc_value = 0.0\n",
    "    loss_fn = nn.BCELoss()\n",
    "    loss_fn.to(device)\n",
    "    metric = BinaryAccuracy()\n",
    "    metric.to(device)\n",
    "    model.eval()\n",
    "    for batch in tqdm(data_loader):\n",
    "        inputs, targets = batch\n",
    "        inputs, targets = inputs.to(device), targets.to(device)\n",
    "        outputs = model(inputs)\n",
    "        loss = loss_fn(outputs.flatten().float(), targets.float())\n",
    "        metric.update(outputs.flatten(), targets)\n",
    "        loss_value += loss.item()\n",
    "        acc_value += metric.compute().item()\n",
    "    return loss_value/data_loader.__len__(), acc_value/data_loader.__len__()"
   ]
  },
  {
   "cell_type": "code",
   "execution_count": 60,
   "metadata": {},
   "outputs": [],
   "source": [
    "def train(model, optimizer, train_loader, val_loader, test_loader, epochs, loss_fn, device='cuda'):\n",
    "    model.to(device)\n",
    "    loss_fn.to(device)\n",
    "    metric = BinaryAccuracy()\n",
    "    metric.to(device)\n",
    "    for epoch in (range(epochs)):\n",
    "        # train the model on the training set\n",
    "        train_loss = 0.0\n",
    "        train_acc = 0.0\n",
    "        model.train()\n",
    "        for batch in tqdm(train_loader):\n",
    "            optimizer.zero_grad()\n",
    "            inputs, targets = batch\n",
    "            inputs, targets = inputs.to(device), targets.to(device)\n",
    "            outputs = model(inputs)\n",
    "            loss = loss_fn(outputs.flatten().float(), targets.float())\n",
    "            loss.backward()\n",
    "            optimizer.step()\n",
    "            metric.update(outputs.flatten(), targets)\n",
    "            train_loss += loss.item()\n",
    "            train_acc += metric.compute().item()\n",
    "\n",
    "        # estimate the performance of the model on the validation set and the test set\n",
    "        train_loss, train_acc = train_loss / len(train_loader), train_acc / len(train_loader)\n",
    "        val_loss, val_acc = estimate_performance(model, val_loader, device)\n",
    "        test_loss, test_acc = estimate_performance(model, test_loader, device)\n",
    "\n",
    "        print(epoch_system_out_string(epoch, train_loss, train_acc, val_loss, val_acc, test_acc))"
   ]
  },
  {
   "cell_type": "code",
   "execution_count": 61,
   "metadata": {},
   "outputs": [],
   "source": [
    "batch_size = 8"
   ]
  },
  {
   "cell_type": "code",
   "execution_count": 62,
   "metadata": {},
   "outputs": [],
   "source": [
    "training_set = FacesDataset('datasets/train.csv')\n",
    "train_loader = DataLoader(dataset=training_set, batch_size=batch_size, shuffle=True)\n",
    "\n",
    "valid_set = FacesDataset('datasets/valid.csv')\n",
    "valid_loader = DataLoader(dataset=valid_set, batch_size=batch_size, shuffle=True)\n",
    "\n",
    "test_set = FacesDataset('datasets/test.csv')\n",
    "test_loader = DataLoader(dataset=test_set, batch_size=batch_size, shuffle=True)"
   ]
  },
  {
   "cell_type": "code",
   "execution_count": 63,
   "metadata": {},
   "outputs": [],
   "source": [
    "model = FaceNetV3()"
   ]
  },
  {
   "cell_type": "code",
   "execution_count": 64,
   "metadata": {},
   "outputs": [
    {
     "data": {
      "text/plain": [
       "(tensor([[0.4593]], grad_fn=<SigmoidBackward0>), torch.Size([1, 1]))"
      ]
     },
     "execution_count": 64,
     "metadata": {},
     "output_type": "execute_result"
    }
   ],
   "source": [
    "model.forward(torch.randn(1, 3, 256, 256)), model.forward(torch.randn(1, 3, 256, 256)).size()"
   ]
  },
  {
   "cell_type": "code",
   "execution_count": 65,
   "metadata": {},
   "outputs": [
    {
     "name": "stderr",
     "output_type": "stream",
     "text": [
      "100%|██████████| 12500/12500 [02:18<00:00, 90.48it/s]\n",
      "100%|██████████| 2500/2500 [00:24<00:00, 103.76it/s]\n",
      "100%|██████████| 2500/2500 [00:24<00:00, 102.48it/s]\n"
     ]
    },
    {
     "name": "stdout",
     "output_type": "stream",
     "text": [
      "Epoch: 0 -- train Loss: 0.5505 \t valid Loss: 0.4506 \t train acc.:0.6054 \t val acc.:0.7924 \t test acc.:0.7969\n"
     ]
    },
    {
     "name": "stderr",
     "output_type": "stream",
     "text": [
      "100%|██████████| 12500/12500 [02:18<00:00, 90.21it/s]\n",
      "100%|██████████| 2500/2500 [00:24<00:00, 102.13it/s]\n",
      "100%|██████████| 2500/2500 [00:24<00:00, 103.35it/s]\n"
     ]
    },
    {
     "name": "stdout",
     "output_type": "stream",
     "text": [
      "Epoch: 1 -- train Loss: 0.3558 \t valid Loss: 0.3311 \t train acc.:0.7396 \t val acc.:0.8621 \t test acc.:0.8636\n"
     ]
    },
    {
     "name": "stderr",
     "output_type": "stream",
     "text": [
      "100%|██████████| 12500/12500 [02:17<00:00, 91.00it/s]\n",
      "100%|██████████| 2500/2500 [00:23<00:00, 105.10it/s]\n",
      "100%|██████████| 2500/2500 [00:23<00:00, 105.31it/s]\n"
     ]
    },
    {
     "name": "stdout",
     "output_type": "stream",
     "text": [
      "Epoch: 2 -- train Loss: 0.2731 \t valid Loss: 0.2586 \t train acc.:0.7916 \t val acc.:0.8905 \t test acc.:0.8947\n"
     ]
    },
    {
     "name": "stderr",
     "output_type": "stream",
     "text": [
      "100%|██████████| 12500/12500 [02:16<00:00, 91.71it/s]\n",
      "100%|██████████| 2500/2500 [00:23<00:00, 105.26it/s]\n",
      "100%|██████████| 2500/2500 [00:23<00:00, 105.31it/s]\n"
     ]
    },
    {
     "name": "stdout",
     "output_type": "stream",
     "text": [
      "Epoch: 3 -- train Loss: 0.225 \t valid Loss: 0.2621 \t train acc.:0.8221 \t val acc.:0.8947 \t test acc.:0.8911\n"
     ]
    },
    {
     "name": "stderr",
     "output_type": "stream",
     "text": [
      "100%|██████████| 12500/12500 [02:16<00:00, 91.68it/s]\n",
      "100%|██████████| 2500/2500 [00:23<00:00, 105.22it/s]\n",
      "100%|██████████| 2500/2500 [00:23<00:00, 104.97it/s]\n"
     ]
    },
    {
     "name": "stdout",
     "output_type": "stream",
     "text": [
      "Epoch: 4 -- train Loss: 0.1964 \t valid Loss: 0.2134 \t train acc.:0.8428 \t val acc.:0.9151 \t test acc.:0.9141\n"
     ]
    },
    {
     "name": "stderr",
     "output_type": "stream",
     "text": [
      "100%|██████████| 12500/12500 [02:18<00:00, 90.21it/s]\n",
      "100%|██████████| 2500/2500 [00:24<00:00, 101.53it/s]\n",
      "100%|██████████| 2500/2500 [00:23<00:00, 105.83it/s]\n"
     ]
    },
    {
     "name": "stdout",
     "output_type": "stream",
     "text": [
      "Epoch: 5 -- train Loss: 0.1737 \t valid Loss: 0.2165 \t train acc.:0.8579 \t val acc.:0.916 \t test acc.:0.9205\n"
     ]
    },
    {
     "name": "stderr",
     "output_type": "stream",
     "text": [
      "100%|██████████| 12500/12500 [02:18<00:00, 90.57it/s]\n",
      "100%|██████████| 2500/2500 [00:23<00:00, 105.06it/s]\n",
      "100%|██████████| 2500/2500 [00:23<00:00, 105.34it/s]\n"
     ]
    },
    {
     "name": "stdout",
     "output_type": "stream",
     "text": [
      "Epoch: 6 -- train Loss: 0.1569 \t valid Loss: 0.1855 \t train acc.:0.8697 \t val acc.:0.926 \t test acc.:0.9312\n"
     ]
    },
    {
     "name": "stderr",
     "output_type": "stream",
     "text": [
      "100%|██████████| 12500/12500 [02:16<00:00, 91.71it/s]\n",
      "100%|██████████| 2500/2500 [00:23<00:00, 105.31it/s]\n",
      "100%|██████████| 2500/2500 [00:23<00:00, 104.56it/s]\n"
     ]
    },
    {
     "name": "stdout",
     "output_type": "stream",
     "text": [
      "Epoch: 7 -- train Loss: 0.1416 \t valid Loss: 0.1923 \t train acc.:0.8792 \t val acc.:0.9258 \t test acc.:0.9248\n"
     ]
    },
    {
     "name": "stderr",
     "output_type": "stream",
     "text": [
      "100%|██████████| 12500/12500 [02:15<00:00, 91.92it/s]\n",
      "100%|██████████| 2500/2500 [00:23<00:00, 105.30it/s]\n",
      "100%|██████████| 2500/2500 [00:23<00:00, 105.59it/s]\n"
     ]
    },
    {
     "name": "stdout",
     "output_type": "stream",
     "text": [
      "Epoch: 8 -- train Loss: 0.1298 \t valid Loss: 0.1841 \t train acc.:0.8871 \t val acc.:0.9282 \t test acc.:0.9314\n"
     ]
    },
    {
     "name": "stderr",
     "output_type": "stream",
     "text": [
      "100%|██████████| 12500/12500 [02:16<00:00, 91.51it/s]\n",
      "100%|██████████| 2500/2500 [00:23<00:00, 105.64it/s]\n",
      "100%|██████████| 2500/2500 [00:23<00:00, 105.68it/s]\n"
     ]
    },
    {
     "name": "stdout",
     "output_type": "stream",
     "text": [
      "Epoch: 9 -- train Loss: 0.1214 \t valid Loss: 0.1624 \t train acc.:0.8938 \t val acc.:0.9315 \t test acc.:0.9343\n"
     ]
    },
    {
     "name": "stderr",
     "output_type": "stream",
     "text": [
      "100%|██████████| 12500/12500 [02:15<00:00, 91.98it/s]\n",
      "100%|██████████| 2500/2500 [00:23<00:00, 105.79it/s]\n",
      "100%|██████████| 2500/2500 [00:23<00:00, 104.96it/s]\n"
     ]
    },
    {
     "name": "stdout",
     "output_type": "stream",
     "text": [
      "Epoch: 10 -- train Loss: 0.1115 \t valid Loss: 0.1588 \t train acc.:0.8997 \t val acc.:0.9372 \t test acc.:0.9416\n"
     ]
    },
    {
     "name": "stderr",
     "output_type": "stream",
     "text": [
      "100%|██████████| 12500/12500 [02:15<00:00, 91.92it/s]\n",
      "100%|██████████| 2500/2500 [00:23<00:00, 105.56it/s]\n",
      "100%|██████████| 2500/2500 [00:23<00:00, 105.34it/s]\n"
     ]
    },
    {
     "name": "stdout",
     "output_type": "stream",
     "text": [
      "Epoch: 11 -- train Loss: 0.1049 \t valid Loss: 0.1688 \t train acc.:0.9047 \t val acc.:0.933 \t test acc.:0.9302\n"
     ]
    },
    {
     "name": "stderr",
     "output_type": "stream",
     "text": [
      "100%|██████████| 12500/12500 [02:15<00:00, 91.98it/s]\n",
      "100%|██████████| 2500/2500 [00:23<00:00, 105.74it/s]\n",
      "100%|██████████| 2500/2500 [00:23<00:00, 105.41it/s]\n"
     ]
    },
    {
     "name": "stdout",
     "output_type": "stream",
     "text": [
      "Epoch: 12 -- train Loss: 0.097 \t valid Loss: 0.1816 \t train acc.:0.9092 \t val acc.:0.9323 \t test acc.:0.9346\n"
     ]
    },
    {
     "name": "stderr",
     "output_type": "stream",
     "text": [
      "100%|██████████| 12500/12500 [02:15<00:00, 91.99it/s]\n",
      "100%|██████████| 2500/2500 [00:23<00:00, 105.61it/s]\n",
      "100%|██████████| 2500/2500 [00:23<00:00, 105.43it/s]\n"
     ]
    },
    {
     "name": "stdout",
     "output_type": "stream",
     "text": [
      "Epoch: 13 -- train Loss: 0.0918 \t valid Loss: 0.149 \t train acc.:0.9132 \t val acc.:0.9468 \t test acc.:0.9426\n"
     ]
    },
    {
     "name": "stderr",
     "output_type": "stream",
     "text": [
      "100%|██████████| 12500/12500 [02:15<00:00, 91.95it/s]\n",
      "100%|██████████| 2500/2500 [00:23<00:00, 105.75it/s]\n",
      "100%|██████████| 2500/2500 [00:23<00:00, 105.59it/s]"
     ]
    },
    {
     "name": "stdout",
     "output_type": "stream",
     "text": [
      "Epoch: 14 -- train Loss: 0.0872 \t valid Loss: 0.1556 \t train acc.:0.9168 \t val acc.:0.9432 \t test acc.:0.9468\n"
     ]
    },
    {
     "name": "stderr",
     "output_type": "stream",
     "text": [
      "\n"
     ]
    }
   ],
   "source": [
    "loss_fn = nn.BCELoss()\n",
    "\n",
    "params = model.parameters()\n",
    "learning_rate = 3e-4\n",
    "optimizer = torch.optim.Adam(params, lr=learning_rate)\n",
    "\n",
    "# train the model\n",
    "num_epochs = 15\n",
    "train(model=model, optimizer=optimizer, train_loader=train_loader, val_loader=valid_loader, test_loader=test_loader,loss_fn=loss_fn, epochs=num_epochs)"
   ]
  },
  {
   "cell_type": "code",
   "execution_count": 66,
   "metadata": {},
   "outputs": [
    {
     "name": "stdout",
     "output_type": "stream",
     "text": [
      "Saving model to models/FaceNetV3-2023-03-29-10-56-39.pth\n",
      "Done!\n"
     ]
    }
   ],
   "source": [
    "model.save()"
   ]
  }
 ],
 "metadata": {
  "kernelspec": {
   "display_name": "base",
   "language": "python",
   "name": "python3"
  },
  "language_info": {
   "codemirror_mode": {
    "name": "ipython",
    "version": 3
   },
   "file_extension": ".py",
   "mimetype": "text/x-python",
   "name": "python",
   "nbconvert_exporter": "python",
   "pygments_lexer": "ipython3",
   "version": "3.9.12"
  },
  "orig_nbformat": 4
 },
 "nbformat": 4,
 "nbformat_minor": 2
}
