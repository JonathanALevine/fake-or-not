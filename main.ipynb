{
 "cells": [
  {
   "cell_type": "code",
   "execution_count": 107,
   "metadata": {},
   "outputs": [],
   "source": [
    "%reset -f"
   ]
  },
  {
   "cell_type": "code",
   "execution_count": 108,
   "metadata": {},
   "outputs": [
    {
     "data": {
      "text/plain": [
       "True"
      ]
     },
     "execution_count": 108,
     "metadata": {},
     "output_type": "execute_result"
    }
   ],
   "source": [
    "#!/usr/bin/env python3\n",
    "import pandas as pd\n",
    "from tqdm import tqdm\n",
    "from PIL import Image\n",
    "from datetime import datetime\n",
    "import torch\n",
    "from torchvision import transforms\n",
    "from torch import nn\n",
    "from torch.utils.data import DataLoader\n",
    "from torcheval.metrics import BinaryAccuracy\n",
    "from torcheval.metrics.functional import binary_accuracy\n",
    "torch.manual_seed(18)\n",
    "torch.cuda.is_available()"
   ]
  },
  {
   "cell_type": "code",
   "execution_count": 109,
   "metadata": {},
   "outputs": [],
   "source": [
    "image_transform = transforms.Compose([transforms.ToTensor()])"
   ]
  },
  {
   "cell_type": "code",
   "execution_count": 110,
   "metadata": {},
   "outputs": [],
   "source": [
    "class MyDataset(torch.utils.data.Dataset):\n",
    "    def __init__(self, data_file_path):\n",
    "        self.data = pd.read_csv(data_file_path)\n",
    "        self.image_transform = transforms.Compose([transforms.ToTensor()])\n",
    "\n",
    "\n",
    "    def __getitem__(self, idx):\n",
    "        image_path = self.data['path'][idx]\n",
    "        image = Image.open(image_path)\n",
    "        label = self.data['label'][idx]\n",
    "        return self.image_transform(image), label\n",
    "    \n",
    "\n",
    "    def __len__(self):\n",
    "        return len(self.data)"
   ]
  },
  {
   "cell_type": "code",
   "execution_count": 111,
   "metadata": {},
   "outputs": [],
   "source": [
    "@torch.no_grad()\n",
    "def get_test_acc(model, test_loader, device='cuda'):\n",
    "    model.to(device)\n",
    "    metric = BinaryAccuracy()\n",
    "    metric.to(device)\n",
    "    test_acc = 0.0\n",
    "    model.eval()\n",
    "    for batch in tqdm(test_loader):\n",
    "        inputs, targets = batch\n",
    "        inputs, targets = inputs.to(device), targets.to(device)\n",
    "        outputs = model(inputs)\n",
    "        metric.update(outputs.flatten(), targets)\n",
    "        test_acc += metric.compute().item()\n",
    "    return test_acc / test_loader.__len__()"
   ]
  },
  {
   "cell_type": "code",
   "execution_count": 112,
   "metadata": {},
   "outputs": [],
   "source": [
    "class FaceNet(nn.Module):\n",
    "    def __init__(self):\n",
    "        super().__init__()\n",
    "        self.layer1 = nn.Conv2d(in_channels=3, out_channels=16, kernel_size=(4, 4), stride=1, padding=0)\n",
    "        self.layer2 = nn.MaxPool2d(kernel_size=(3, 3), stride=1, padding=0)\n",
    "        self.layer3 = nn.Conv2d(in_channels=16, out_channels=32, kernel_size=(5, 5), stride=1, padding=0)\n",
    "        self.layer4 = nn.MaxPool2d(kernel_size=(4, 4), stride=1, padding=0)\n",
    "        self.layer5 = nn.Conv2d(in_channels=32, out_channels=32, kernel_size=(6, 6), stride=1, padding=0)\n",
    "        self.layer6 = nn.MaxPool2d(kernel_size=(5, 5), stride=1, padding=0)\n",
    "        self.layer7 = nn.Conv2d(in_channels=32, out_channels=1, kernel_size=(7, 7), stride=1, padding=0)\n",
    "        self.layer8 = nn.Linear(in_features=52441, out_features=32)\n",
    "        self.layer9 = nn.Linear(in_features=32, out_features=16)\n",
    "        self.layer10 = nn.Linear(in_features=16, out_features=8)\n",
    "        self.layer11 = nn.Linear(in_features=8, out_features=1)\n",
    "\n",
    "        self.relu = nn.ReLU()\n",
    "        self.flatten = nn.Flatten()\n",
    "        self.sigmoid = nn.Sigmoid()\n",
    "        self.softmax = nn.Softmax(dim=1)\n",
    "    \n",
    "    def forward(self, x):\n",
    "        x = self.layer1(x)\n",
    "        x = self.relu(x)\n",
    "        x = self.layer2(x)\n",
    "        \n",
    "        x = self.layer3(x)\n",
    "        x = self.relu(x)\n",
    "        x = self.layer4(x)\n",
    "\n",
    "        x = self.layer5(x)\n",
    "        x = self.relu(x)\n",
    "        x = self.layer6(x)\n",
    "\n",
    "        x = self.layer7(x)\n",
    "        x = self.relu(x)\n",
    "\n",
    "        x = self.flatten(x)\n",
    "\n",
    "        x = self.layer8(x)\n",
    "        x = self.relu(x)\n",
    "\n",
    "        x = self.layer9(x)\n",
    "        x = self.relu(x)\n",
    "\n",
    "        x = self.layer10(x)\n",
    "        x = self.relu(x)\n",
    "\n",
    "        x = self.layer11(x)\n",
    "        x = self.sigmoid(x)\n",
    "\n",
    "        return x"
   ]
  },
  {
   "cell_type": "code",
   "execution_count": 113,
   "metadata": {},
   "outputs": [],
   "source": [
    "def epoch_system_out_string(epoch:int, train_loss:float, train_acc:float, val_loss:float, val_acc:float, train_loader, val_loader)->str:\n",
    "    return (f'Epoch: {epoch} -- train Loss: {round(train_loss / train_loader.__len__(), 4)} \\t valid Loss: {round(val_loss / val_loader.__len__(), 4)} \\t train acc.:{round(train_acc / train_loader.__len__(), 4)} \\t val acc.:{round(val_acc / val_loader.__len__(), 4)}')"
   ]
  },
  {
   "cell_type": "code",
   "execution_count": 114,
   "metadata": {},
   "outputs": [],
   "source": [
    "@torch.no_grad()\n",
    "def estimate_performance(model, data_loader, device='cuda'):\n",
    "    loss_value = 0.0\n",
    "    acc_value = 0.0\n",
    "    loss_fn = nn.BCELoss()\n",
    "    loss_fn.to(device)\n",
    "    metric = BinaryAccuracy()\n",
    "    metric.to(device)\n",
    "    model.eval()\n",
    "    for batch in tqdm(data_loader):\n",
    "        inputs, targets = batch\n",
    "        inputs, targets = inputs.to(device), targets.to(device)\n",
    "        outputs = model(inputs)\n",
    "        loss = loss_fn(outputs.flatten().float(), targets.float())\n",
    "        metric.update(outputs.flatten(), targets)\n",
    "        loss_value += loss.item()\n",
    "        acc_value += metric.compute().item()\n",
    "    return loss_value, acc_value"
   ]
  },
  {
   "cell_type": "code",
   "execution_count": 115,
   "metadata": {},
   "outputs": [],
   "source": [
    "def train(model, optimizer, train_loader, val_loader, epochs, loss_fn, device='cuda'):\n",
    "    model.to(device)\n",
    "    loss_fn.to(device)\n",
    "    metric = BinaryAccuracy()\n",
    "    metric.to(device)\n",
    "    for epoch in (range(epochs)):\n",
    "        # train the model on the training set\n",
    "        train_loss = 0.0\n",
    "        train_acc = 0.0\n",
    "        model.train()\n",
    "        for batch in tqdm(train_loader):\n",
    "            optimizer.zero_grad()\n",
    "            inputs, targets = batch\n",
    "            inputs, targets = inputs.to(device), targets.to(device)\n",
    "            outputs = model(inputs)\n",
    "            loss = loss_fn(outputs.flatten().float(), targets.float())\n",
    "            loss.backward()\n",
    "            optimizer.step()\n",
    "            metric.update(outputs.flatten(), targets)\n",
    "            train_loss += loss.item()\n",
    "            train_acc += metric.compute().item()\n",
    "\n",
    "        # evaluate the model on the validation set\n",
    "        val_loss, val_acc = estimate_performance(model, val_loader, device)\n",
    "\n",
    "        print(epoch_system_out_string(epoch, train_loss, train_acc, val_loss, val_acc, train_loader, val_loader))"
   ]
  },
  {
   "cell_type": "code",
   "execution_count": 116,
   "metadata": {},
   "outputs": [],
   "source": [
    "batch_size = 128\n",
    "\n",
    "training_set = MyDataset('datasets/train.csv')\n",
    "train_loader = DataLoader(dataset=training_set, batch_size=batch_size, shuffle=True)\n",
    "\n",
    "valid_set = MyDataset('datasets/valid.csv')\n",
    "valid_loader = DataLoader(dataset=valid_set, batch_size=batch_size, shuffle=True)\n",
    "\n",
    "test_set = MyDataset('datasets/test.csv')\n",
    "test_loader = DataLoader(dataset=test_set, batch_size=batch_size, shuffle=True)"
   ]
  },
  {
   "cell_type": "code",
   "execution_count": 117,
   "metadata": {},
   "outputs": [],
   "source": [
    "model = FaceNet()"
   ]
  },
  {
   "cell_type": "code",
   "execution_count": 118,
   "metadata": {},
   "outputs": [
    {
     "data": {
      "text/plain": [
       "(tensor([[0.4829]], grad_fn=<SigmoidBackward0>), torch.Size([1, 1]))"
      ]
     },
     "execution_count": 118,
     "metadata": {},
     "output_type": "execute_result"
    }
   ],
   "source": [
    "model.forward(torch.randn(1, 3, 256, 256)), model.forward(torch.randn(1, 3, 256, 256)).size()"
   ]
  },
  {
   "cell_type": "code",
   "execution_count": 119,
   "metadata": {},
   "outputs": [
    {
     "name": "stderr",
     "output_type": "stream",
     "text": [
      " 42%|████▏     | 327/782 [02:44<03:52,  1.95it/s]"
     ]
    }
   ],
   "source": [
    "loss_fn = nn.BCELoss()\n",
    "\n",
    "params = model.parameters()\n",
    "learning_rate = 3e-4\n",
    "optimizer = torch.optim.Adam(params, lr=learning_rate)\n",
    "\n",
    "# train the model\n",
    "train(model=model, optimizer=optimizer, train_loader=train_loader, val_loader=valid_loader, loss_fn=loss_fn, epochs=1)"
   ]
  },
  {
   "cell_type": "code",
   "execution_count": null,
   "metadata": {},
   "outputs": [],
   "source": [
    "get_test_acc(model, test_loader)"
   ]
  },
  {
   "cell_type": "code",
   "execution_count": null,
   "metadata": {},
   "outputs": [],
   "source": [
    "now = datetime.now()\n",
    "date_string = now.strftime(\"%Y-%m-%d-%H-%M-%S\")\n",
    "model_path = f\"models/face_net-{date_string}.pth\"\n",
    "torch.save(model.state_dict(), model_path)"
   ]
  }
 ],
 "metadata": {
  "kernelspec": {
   "display_name": "base",
   "language": "python",
   "name": "python3"
  },
  "language_info": {
   "codemirror_mode": {
    "name": "ipython",
    "version": 3
   },
   "file_extension": ".py",
   "mimetype": "text/x-python",
   "name": "python",
   "nbconvert_exporter": "python",
   "pygments_lexer": "ipython3",
   "version": "3.9.12"
  },
  "orig_nbformat": 4
 },
 "nbformat": 4,
 "nbformat_minor": 2
}
