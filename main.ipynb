{
 "cells": [
  {
   "cell_type": "code",
   "execution_count": 23,
   "metadata": {},
   "outputs": [],
   "source": [
    "%reset -f"
   ]
  },
  {
   "cell_type": "code",
   "execution_count": 24,
   "metadata": {},
   "outputs": [],
   "source": [
    "#!/usr/bin/env python3\n",
    "import pandas as pd\n",
    "from tqdm import tqdm\n",
    "from datetime import datetime\n",
    "import torch\n",
    "from torch import nn\n",
    "from torch.utils.data import DataLoader\n",
    "from torcheval.metrics import BinaryAccuracy\n",
    "from torcheval.metrics.functional import binary_accuracy\n",
    "torch.manual_seed(18)\n",
    "torch.cuda.is_available()\n",
    "from FaceNetV3 import FaceNetV3, ConvBlock\n",
    "from FacesDataset import FacesDataset"
   ]
  },
  {
   "cell_type": "code",
   "execution_count": 25,
   "metadata": {},
   "outputs": [],
   "source": [
    "def epoch_system_out_string(epoch:int, train_loss:float, train_acc:float, val_loss:float, val_acc:float, test_acc:float)->str:\n",
    "    return (f'Epoch: {epoch} -- train Loss: {round(train_loss, 4)} \\t valid Loss: {round(val_loss, 4)} \\t train acc.:{round(train_acc, 4)} \\t val acc.:{round(val_acc, 4)} \\t test acc.:{round(test_acc, 4)}')"
   ]
  },
  {
   "cell_type": "code",
   "execution_count": 26,
   "metadata": {},
   "outputs": [],
   "source": [
    "@torch.no_grad()\n",
    "def estimate_performance(model, data_loader, device='cuda'):\n",
    "    loss_value = 0.0\n",
    "    acc_value = 0.0\n",
    "    loss_fn = nn.BCELoss()\n",
    "    loss_fn.to(device)\n",
    "    metric = BinaryAccuracy()\n",
    "    metric.to(device)\n",
    "    model.eval()\n",
    "    for batch in tqdm(data_loader):\n",
    "        inputs, targets = batch\n",
    "        inputs, targets = inputs.to(device), targets.to(device)\n",
    "        outputs = model(inputs)\n",
    "        loss = loss_fn(outputs.flatten().float(), targets.float())\n",
    "        metric.update(outputs.flatten(), targets)\n",
    "        loss_value += loss.item()\n",
    "        acc_value += metric.compute().item()\n",
    "    return loss_value/data_loader.__len__(), acc_value/data_loader.__len__()"
   ]
  },
  {
   "cell_type": "code",
   "execution_count": 27,
   "metadata": {},
   "outputs": [],
   "source": [
    "def train(model, optimizer, train_loader, val_loader, test_loader, epochs, loss_fn, device='cuda'):\n",
    "    model.to(device)\n",
    "    loss_fn.to(device)\n",
    "    metric = BinaryAccuracy()\n",
    "    metric.to(device)\n",
    "    for epoch in (range(epochs)):\n",
    "        # train the model on the training set\n",
    "        train_loss = 0.0\n",
    "        train_acc = 0.0\n",
    "        model.train()\n",
    "        for batch in tqdm(train_loader):\n",
    "            optimizer.zero_grad()\n",
    "            inputs, targets = batch\n",
    "            inputs, targets = inputs.to(device), targets.to(device)\n",
    "            outputs = model(inputs)\n",
    "            loss = loss_fn(outputs.flatten().float(), targets.float())\n",
    "            loss.backward()\n",
    "            optimizer.step()\n",
    "            metric.update(outputs.flatten(), targets)\n",
    "            train_loss += loss.item()\n",
    "            train_acc += metric.compute().item()\n",
    "\n",
    "        # estimate the performance of the model on the validation set and the test set\n",
    "        train_loss, train_acc = train_loss / len(train_loader), train_acc / len(train_loader)\n",
    "        val_loss, val_acc = estimate_performance(model, val_loader, device)\n",
    "        test_loss, test_acc = estimate_performance(model, test_loader, device)\n",
    "\n",
    "        print(epoch_system_out_string(epoch, train_loss, train_acc, val_loss, val_acc, test_acc))"
   ]
  },
  {
   "cell_type": "code",
   "execution_count": 28,
   "metadata": {},
   "outputs": [],
   "source": [
    "batch_size = 32"
   ]
  },
  {
   "cell_type": "code",
   "execution_count": 29,
   "metadata": {},
   "outputs": [],
   "source": [
    "training_set = FacesDataset('datasets/train.csv')\n",
    "train_loader = DataLoader(dataset=training_set, batch_size=batch_size, shuffle=True)\n",
    "\n",
    "valid_set = FacesDataset('datasets/valid.csv')\n",
    "valid_loader = DataLoader(dataset=valid_set, batch_size=batch_size, shuffle=True)\n",
    "\n",
    "test_set = FacesDataset('datasets/test.csv')\n",
    "test_loader = DataLoader(dataset=test_set, batch_size=batch_size, shuffle=True)"
   ]
  },
  {
   "cell_type": "code",
   "execution_count": 30,
   "metadata": {},
   "outputs": [],
   "source": [
    "model = FaceNetV3()"
   ]
  },
  {
   "cell_type": "code",
   "execution_count": 31,
   "metadata": {},
   "outputs": [
    {
     "data": {
      "text/plain": [
       "(tensor([[0.4593]], grad_fn=<SigmoidBackward0>), torch.Size([1, 1]))"
      ]
     },
     "execution_count": 31,
     "metadata": {},
     "output_type": "execute_result"
    }
   ],
   "source": [
    "model.forward(torch.randn(1, 3, 256, 256)), model.forward(torch.randn(1, 3, 256, 256)).size()"
   ]
  },
  {
   "cell_type": "code",
   "execution_count": 32,
   "metadata": {},
   "outputs": [
    {
     "name": "stderr",
     "output_type": "stream",
     "text": [
      "100%|██████████| 1563/1563 [01:56<00:00, 13.42it/s]\n",
      "100%|██████████| 313/313 [00:21<00:00, 14.29it/s]\n",
      "100%|██████████| 313/313 [00:21<00:00, 14.36it/s]\n"
     ]
    },
    {
     "name": "stdout",
     "output_type": "stream",
     "text": [
      "Epoch: 0 -- train Loss: 0.6057 \t valid Loss: 0.5282 \t train acc.:0.5758 \t val acc.:0.7432 \t test acc.:0.7418\n"
     ]
    },
    {
     "name": "stderr",
     "output_type": "stream",
     "text": [
      "100%|██████████| 1563/1563 [01:56<00:00, 13.43it/s]\n",
      "100%|██████████| 313/313 [00:21<00:00, 14.27it/s]\n",
      "100%|██████████| 313/313 [00:21<00:00, 14.36it/s]\n"
     ]
    },
    {
     "name": "stdout",
     "output_type": "stream",
     "text": [
      "Epoch: 1 -- train Loss: 0.414 \t valid Loss: 0.3573 \t train acc.:0.6976 \t val acc.:0.8462 \t test acc.:0.8491\n"
     ]
    },
    {
     "name": "stderr",
     "output_type": "stream",
     "text": [
      "100%|██████████| 1563/1563 [01:56<00:00, 13.44it/s]\n",
      "100%|██████████| 313/313 [00:21<00:00, 14.31it/s]\n",
      "100%|██████████| 313/313 [00:21<00:00, 14.34it/s]\n"
     ]
    },
    {
     "name": "stdout",
     "output_type": "stream",
     "text": [
      "Epoch: 2 -- train Loss: 0.3219 \t valid Loss: 0.2917 \t train acc.:0.7564 \t val acc.:0.8807 \t test acc.:0.8786\n"
     ]
    },
    {
     "name": "stderr",
     "output_type": "stream",
     "text": [
      "100%|██████████| 1563/1563 [01:56<00:00, 13.45it/s]\n",
      "100%|██████████| 313/313 [00:21<00:00, 14.30it/s]\n",
      "100%|██████████| 313/313 [00:21<00:00, 14.25it/s]\n"
     ]
    },
    {
     "name": "stdout",
     "output_type": "stream",
     "text": [
      "Epoch: 3 -- train Loss: 0.2655 \t valid Loss: 0.2888 \t train acc.:0.7911 \t val acc.:0.8818 \t test acc.:0.8737\n"
     ]
    },
    {
     "name": "stderr",
     "output_type": "stream",
     "text": [
      "100%|██████████| 1563/1563 [01:56<00:00, 13.42it/s]\n",
      "100%|██████████| 313/313 [00:22<00:00, 14.22it/s]\n",
      "100%|██████████| 313/313 [00:21<00:00, 14.23it/s]\n"
     ]
    },
    {
     "name": "stdout",
     "output_type": "stream",
     "text": [
      "Epoch: 4 -- train Loss: 0.2267 \t valid Loss: 0.2404 \t train acc.:0.815 \t val acc.:0.9007 \t test acc.:0.9012\n"
     ]
    },
    {
     "name": "stderr",
     "output_type": "stream",
     "text": [
      "100%|██████████| 1563/1563 [01:56<00:00, 13.44it/s]\n",
      "100%|██████████| 313/313 [00:22<00:00, 14.22it/s]\n",
      "100%|██████████| 313/313 [00:21<00:00, 14.26it/s]\n"
     ]
    },
    {
     "name": "stdout",
     "output_type": "stream",
     "text": [
      "Epoch: 5 -- train Loss: 0.2037 \t valid Loss: 0.2118 \t train acc.:0.8328 \t val acc.:0.9173 \t test acc.:0.9119\n"
     ]
    },
    {
     "name": "stderr",
     "output_type": "stream",
     "text": [
      "100%|██████████| 1563/1563 [01:56<00:00, 13.43it/s]\n",
      "100%|██████████| 313/313 [00:21<00:00, 14.30it/s]\n",
      "100%|██████████| 313/313 [00:21<00:00, 14.32it/s]\n"
     ]
    },
    {
     "name": "stdout",
     "output_type": "stream",
     "text": [
      "Epoch: 6 -- train Loss: 0.1816 \t valid Loss: 0.2316 \t train acc.:0.8467 \t val acc.:0.9105 \t test acc.:0.9079\n"
     ]
    },
    {
     "name": "stderr",
     "output_type": "stream",
     "text": [
      "100%|██████████| 1563/1563 [01:56<00:00, 13.44it/s]\n",
      "100%|██████████| 313/313 [00:21<00:00, 14.31it/s]\n",
      "100%|██████████| 313/313 [00:21<00:00, 14.36it/s]\n"
     ]
    },
    {
     "name": "stdout",
     "output_type": "stream",
     "text": [
      "Epoch: 7 -- train Loss: 0.1643 \t valid Loss: 0.1925 \t train acc.:0.8579 \t val acc.:0.9241 \t test acc.:0.9221\n"
     ]
    },
    {
     "name": "stderr",
     "output_type": "stream",
     "text": [
      "100%|██████████| 1563/1563 [01:55<00:00, 13.51it/s]\n",
      "100%|██████████| 313/313 [00:21<00:00, 14.29it/s]\n",
      "100%|██████████| 313/313 [00:22<00:00, 14.22it/s]\n"
     ]
    },
    {
     "name": "stdout",
     "output_type": "stream",
     "text": [
      "Epoch: 8 -- train Loss: 0.1498 \t valid Loss: 0.1832 \t train acc.:0.8673 \t val acc.:0.9234 \t test acc.:0.9286\n"
     ]
    },
    {
     "name": "stderr",
     "output_type": "stream",
     "text": [
      "100%|██████████| 1563/1563 [01:56<00:00, 13.46it/s]\n",
      "100%|██████████| 313/313 [00:21<00:00, 14.28it/s]\n",
      "100%|██████████| 313/313 [00:21<00:00, 14.34it/s]\n"
     ]
    },
    {
     "name": "stdout",
     "output_type": "stream",
     "text": [
      "Epoch: 9 -- train Loss: 0.1397 \t valid Loss: 0.1638 \t train acc.:0.8753 \t val acc.:0.9345 \t test acc.:0.9376\n"
     ]
    },
    {
     "name": "stderr",
     "output_type": "stream",
     "text": [
      "100%|██████████| 1563/1563 [01:55<00:00, 13.48it/s]\n",
      "100%|██████████| 313/313 [00:21<00:00, 14.41it/s]\n",
      "100%|██████████| 313/313 [00:21<00:00, 14.35it/s]\n"
     ]
    },
    {
     "name": "stdout",
     "output_type": "stream",
     "text": [
      "Epoch: 10 -- train Loss: 0.1295 \t valid Loss: 0.1623 \t train acc.:0.8822 \t val acc.:0.936 \t test acc.:0.9368\n"
     ]
    },
    {
     "name": "stderr",
     "output_type": "stream",
     "text": [
      "100%|██████████| 1563/1563 [01:56<00:00, 13.44it/s]\n",
      "100%|██████████| 313/313 [00:21<00:00, 14.25it/s]\n",
      "100%|██████████| 313/313 [00:21<00:00, 14.28it/s]\n"
     ]
    },
    {
     "name": "stdout",
     "output_type": "stream",
     "text": [
      "Epoch: 11 -- train Loss: 0.1186 \t valid Loss: 0.1548 \t train acc.:0.8882 \t val acc.:0.9408 \t test acc.:0.9436\n"
     ]
    },
    {
     "name": "stderr",
     "output_type": "stream",
     "text": [
      "100%|██████████| 1563/1563 [01:56<00:00, 13.42it/s]\n",
      "100%|██████████| 313/313 [00:21<00:00, 14.36it/s]\n",
      "100%|██████████| 313/313 [00:21<00:00, 14.32it/s]\n"
     ]
    },
    {
     "name": "stdout",
     "output_type": "stream",
     "text": [
      "Epoch: 12 -- train Loss: 0.1145 \t valid Loss: 0.1829 \t train acc.:0.8936 \t val acc.:0.9334 \t test acc.:0.9302\n"
     ]
    },
    {
     "name": "stderr",
     "output_type": "stream",
     "text": [
      "100%|██████████| 1563/1563 [01:56<00:00, 13.43it/s]\n",
      "100%|██████████| 313/313 [00:21<00:00, 14.29it/s]\n",
      "100%|██████████| 313/313 [00:21<00:00, 14.31it/s]\n"
     ]
    },
    {
     "name": "stdout",
     "output_type": "stream",
     "text": [
      "Epoch: 13 -- train Loss: 0.1055 \t valid Loss: 0.1514 \t train acc.:0.8983 \t val acc.:0.945 \t test acc.:0.9424\n"
     ]
    },
    {
     "name": "stderr",
     "output_type": "stream",
     "text": [
      "100%|██████████| 1563/1563 [01:56<00:00, 13.46it/s]\n",
      "100%|██████████| 313/313 [00:21<00:00, 14.28it/s]\n",
      "100%|██████████| 313/313 [00:21<00:00, 14.24it/s]"
     ]
    },
    {
     "name": "stdout",
     "output_type": "stream",
     "text": [
      "Epoch: 14 -- train Loss: 0.1015 \t valid Loss: 0.1683 \t train acc.:0.9026 \t val acc.:0.938 \t test acc.:0.9425\n"
     ]
    },
    {
     "name": "stderr",
     "output_type": "stream",
     "text": [
      "\n"
     ]
    }
   ],
   "source": [
    "loss_fn = nn.BCELoss()\n",
    "\n",
    "params = model.parameters()\n",
    "learning_rate = 3e-4\n",
    "optimizer = torch.optim.Adam(params, lr=learning_rate)\n",
    "\n",
    "# train the model\n",
    "num_epochs = 15\n",
    "train(model=model, optimizer=optimizer, train_loader=train_loader, val_loader=valid_loader, test_loader=test_loader,loss_fn=loss_fn, epochs=num_epochs)"
   ]
  },
  {
   "cell_type": "code",
   "execution_count": 33,
   "metadata": {},
   "outputs": [
    {
     "name": "stdout",
     "output_type": "stream",
     "text": [
      "Saving model to models/FaceNetV3-2023-03-28-22-53-51.pth\n",
      "Done!\n"
     ]
    }
   ],
   "source": [
    "model.save()"
   ]
  }
 ],
 "metadata": {
  "kernelspec": {
   "display_name": "base",
   "language": "python",
   "name": "python3"
  },
  "language_info": {
   "codemirror_mode": {
    "name": "ipython",
    "version": 3
   },
   "file_extension": ".py",
   "mimetype": "text/x-python",
   "name": "python",
   "nbconvert_exporter": "python",
   "pygments_lexer": "ipython3",
   "version": "3.9.12"
  },
  "orig_nbformat": 4
 },
 "nbformat": 4,
 "nbformat_minor": 2
}
