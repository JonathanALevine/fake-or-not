{
 "cells": [
  {
   "cell_type": "code",
   "execution_count": 66,
   "metadata": {},
   "outputs": [],
   "source": [
    "%reset -f"
   ]
  },
  {
   "cell_type": "code",
   "execution_count": 67,
   "metadata": {},
   "outputs": [
    {
     "data": {
      "text/plain": [
       "True"
      ]
     },
     "execution_count": 67,
     "metadata": {},
     "output_type": "execute_result"
    }
   ],
   "source": [
    "#!/usr/bin/env python3\n",
    "import pandas as pd\n",
    "from tqdm import tqdm\n",
    "from PIL import Image\n",
    "from datetime import datetime\n",
    "import torch\n",
    "from torchvision import transforms\n",
    "from torch import nn\n",
    "from torch.utils.data import DataLoader\n",
    "from torcheval.metrics import BinaryAccuracy\n",
    "from torcheval.metrics.functional import binary_accuracy\n",
    "torch.manual_seed(18)\n",
    "torch.cuda.is_available()"
   ]
  },
  {
   "cell_type": "code",
   "execution_count": 68,
   "metadata": {},
   "outputs": [],
   "source": [
    "image_transform = transforms.Compose([transforms.ToTensor()])"
   ]
  },
  {
   "cell_type": "code",
   "execution_count": 69,
   "metadata": {},
   "outputs": [],
   "source": [
    "class MyDataset(torch.utils.data.Dataset):\n",
    "    def __init__(self, data_file_path):\n",
    "        self.data = pd.read_csv(data_file_path)\n",
    "        self.image_transform = transforms.Compose([transforms.ToTensor()])\n",
    "\n",
    "\n",
    "    def __getitem__(self, idx):\n",
    "        image_path = self.data['path'][idx]\n",
    "        image = Image.open(image_path)\n",
    "        label = self.data['label'][idx]\n",
    "        return self.image_transform(image), label\n",
    "    \n",
    "\n",
    "    def __len__(self):\n",
    "        return len(self.data)"
   ]
  },
  {
   "cell_type": "code",
   "execution_count": 70,
   "metadata": {},
   "outputs": [],
   "source": [
    "def get_test_acc(model, test_loader, device='cuda'):\n",
    "    model.to(device)\n",
    "    metric = BinaryAccuracy()\n",
    "    metric.to(device)\n",
    "    with torch.no_grad():\n",
    "        test_acc = 0.0\n",
    "        model.eval()\n",
    "        for batch in tqdm(test_loader):\n",
    "            inputs, targets = batch\n",
    "            inputs, targets = inputs.to(device), targets.to(device)\n",
    "            outputs = model(inputs)\n",
    "            metric.update(outputs.flatten(), targets)\n",
    "            test_acc += metric.compute().item()\n",
    "    return test_acc / test_loader.__len__()"
   ]
  },
  {
   "cell_type": "code",
   "execution_count": 71,
   "metadata": {},
   "outputs": [],
   "source": [
    "class FaceNet(nn.Module):\n",
    "    def __init__(self):\n",
    "        super().__init__()\n",
    "        self.layer1 = nn.Conv2d(in_channels=3, out_channels=16, kernel_size=(4, 4), stride=1, padding=0)\n",
    "        self.layer2 = nn.MaxPool2d(kernel_size=(3, 3), stride=1, padding=0)\n",
    "        self.layer3 = nn.Conv2d(in_channels=16, out_channels=32, kernel_size=(5, 5), stride=1, padding=0)\n",
    "        self.layer4 = nn.MaxPool2d(kernel_size=(4, 4), stride=1, padding=0)\n",
    "        self.layer5 = nn.Conv2d(in_channels=32, out_channels=32, kernel_size=(6, 6), stride=1, padding=0)\n",
    "        self.layer6 = nn.MaxPool2d(kernel_size=(5, 5), stride=1, padding=0)\n",
    "        self.layer7 = nn.Conv2d(in_channels=32, out_channels=1, kernel_size=(7, 7), stride=1, padding=0)\n",
    "        self.layer8 = nn.Linear(in_features=52441, out_features=32)\n",
    "        self.layer9 = nn.Linear(in_features=32, out_features=16)\n",
    "        self.layer10 = nn.Linear(in_features=16, out_features=8)\n",
    "        self.layer11 = nn.Linear(in_features=8, out_features=1)\n",
    "\n",
    "        self.relu = nn.ReLU()\n",
    "        self.flatten = nn.Flatten()\n",
    "        self.sigmoid = nn.Sigmoid()\n",
    "        self.softmax = nn.Softmax(dim=1)\n",
    "    \n",
    "    def forward(self, x):\n",
    "        x = self.layer1(x)\n",
    "        x = self.relu(x)\n",
    "        x = self.layer2(x)\n",
    "        \n",
    "        x = self.layer3(x)\n",
    "        x = self.relu(x)\n",
    "        x = self.layer4(x)\n",
    "\n",
    "        x = self.layer5(x)\n",
    "        x = self.relu(x)\n",
    "        x = self.layer6(x)\n",
    "\n",
    "        x = self.layer7(x)\n",
    "        x = self.relu(x)\n",
    "\n",
    "        x = self.flatten(x)\n",
    "\n",
    "        x = self.layer8(x)\n",
    "        x = self.relu(x)\n",
    "\n",
    "        x = self.layer9(x)\n",
    "        x = self.relu(x)\n",
    "\n",
    "        x = self.layer10(x)\n",
    "        x = self.relu(x)\n",
    "\n",
    "        x = self.layer11(x)\n",
    "        x = self.sigmoid(x)\n",
    "\n",
    "        return x"
   ]
  },
  {
   "cell_type": "code",
   "execution_count": 72,
   "metadata": {},
   "outputs": [],
   "source": [
    "def epoch_system_out_string(epoch:int, train_loss:float, train_acc:float, val_loss:float, val_acc:float, train_loader, val_loader)->str:\n",
    "    return (f'Epoch: {epoch} -- train Loss: {round(train_loss / train_loader.__len__(), 4)} \\t valid Loss: {round(val_loss / val_loader.__len__(), 4)} \\t train acc.:{round(train_acc / train_loader.__len__(), 4)} \\t val acc.:{round(val_acc / val_loader.__len__(), 4)}')"
   ]
  },
  {
   "cell_type": "code",
   "execution_count": 73,
   "metadata": {},
   "outputs": [],
   "source": [
    "def train(model, optimizer, train_loader, val_loader, epochs, loss_fn, device='cuda'):\n",
    "    model.to(device)\n",
    "    loss_fn.to(device)\n",
    "    metric = BinaryAccuracy()\n",
    "    metric.to(device)\n",
    "    for epoch in (range(epochs)):\n",
    "        # train the model on the training set\n",
    "        train_loss = 0.0\n",
    "        train_acc = 0.0\n",
    "        model.train()\n",
    "        for batch in tqdm(train_loader):\n",
    "            optimizer.zero_grad()\n",
    "            inputs, targets = batch\n",
    "            inputs, targets = inputs.to(device), targets.to(device)\n",
    "            outputs = model(inputs)\n",
    "            loss = loss_fn(outputs.flatten().float(), targets.float())\n",
    "            loss.backward()\n",
    "            optimizer.step()\n",
    "            metric.update(outputs.flatten(), targets)\n",
    "            train_loss += loss.item()\n",
    "            train_acc += metric.compute().item()\n",
    "\n",
    "        # evaluate the model on the validation set\n",
    "        with torch.no_grad():\n",
    "            val_loss = 0.0\n",
    "            val_acc = 0.0\n",
    "            model.eval()\n",
    "            for batch in tqdm(val_loader):\n",
    "                optimizer.zero_grad()\n",
    "                inputs, targets = batch\n",
    "                inputs, targets = inputs.to(device), targets.to(device)\n",
    "                outputs = model(inputs)\n",
    "                loss = loss_fn(outputs.flatten().float(), targets.float())\n",
    "                metric.update(outputs.flatten(), targets)\n",
    "                val_loss += loss.item()\n",
    "                val_acc += metric.compute().item()\n",
    "\n",
    "        print(epoch_system_out_string(epoch, train_loss, train_acc, val_loss, val_acc, train_loader, val_loader))"
   ]
  },
  {
   "cell_type": "code",
   "execution_count": 74,
   "metadata": {},
   "outputs": [],
   "source": [
    "batch_size = 128\n",
    "\n",
    "training_set = MyDataset('datasets/train.csv')\n",
    "train_loader = DataLoader(dataset=training_set, batch_size=batch_size, shuffle=True)\n",
    "\n",
    "valid_set = MyDataset('datasets/valid.csv')\n",
    "valid_loader = DataLoader(dataset=valid_set, batch_size=batch_size, shuffle=True)\n",
    "\n",
    "test_set = MyDataset('datasets/test.csv')\n",
    "test_loader = DataLoader(dataset=test_set, batch_size=batch_size, shuffle=True)"
   ]
  },
  {
   "cell_type": "code",
   "execution_count": 75,
   "metadata": {},
   "outputs": [],
   "source": [
    "model = FaceNet()"
   ]
  },
  {
   "cell_type": "code",
   "execution_count": 76,
   "metadata": {},
   "outputs": [
    {
     "data": {
      "text/plain": [
       "(tensor([[0.4829]], grad_fn=<SigmoidBackward0>), torch.Size([1, 1]))"
      ]
     },
     "execution_count": 76,
     "metadata": {},
     "output_type": "execute_result"
    }
   ],
   "source": [
    "model.forward(torch.randn(1, 3, 256, 256)), model.forward(torch.randn(1, 3, 256, 256)).size()"
   ]
  },
  {
   "cell_type": "code",
   "execution_count": 77,
   "metadata": {},
   "outputs": [
    {
     "name": "stderr",
     "output_type": "stream",
     "text": [
      "100%|██████████| 782/782 [06:40<00:00,  1.95it/s]\n",
      "100%|██████████| 157/157 [00:45<00:00,  3.45it/s]\n"
     ]
    },
    {
     "name": "stdout",
     "output_type": "stream",
     "text": [
      "Epoch: 0 -- train Loss: 0.6198 \t valid Loss: 0.5583 \t train acc.:0.5978 \t val acc.:0.6559\n"
     ]
    },
    {
     "name": "stderr",
     "output_type": "stream",
     "text": [
      "100%|██████████| 782/782 [06:33<00:00,  1.99it/s]\n",
      "100%|██████████| 157/157 [00:44<00:00,  3.56it/s]\n"
     ]
    },
    {
     "name": "stdout",
     "output_type": "stream",
     "text": [
      "Epoch: 1 -- train Loss: 0.5202 \t valid Loss: 0.4866 \t train acc.:0.6797 \t val acc.:0.7003\n"
     ]
    },
    {
     "name": "stderr",
     "output_type": "stream",
     "text": [
      "100%|██████████| 782/782 [06:27<00:00,  2.02it/s]\n",
      "100%|██████████| 157/157 [00:44<00:00,  3.55it/s]\n"
     ]
    },
    {
     "name": "stdout",
     "output_type": "stream",
     "text": [
      "Epoch: 2 -- train Loss: 0.4633 \t valid Loss: 0.4509 \t train acc.:0.7148 \t val acc.:0.7277\n"
     ]
    },
    {
     "name": "stderr",
     "output_type": "stream",
     "text": [
      "100%|██████████| 782/782 [06:27<00:00,  2.02it/s]\n",
      "100%|██████████| 157/157 [00:44<00:00,  3.55it/s]\n"
     ]
    },
    {
     "name": "stdout",
     "output_type": "stream",
     "text": [
      "Epoch: 3 -- train Loss: 0.4104 \t valid Loss: 0.396 \t train acc.:0.7386 \t val acc.:0.7488\n"
     ]
    },
    {
     "name": "stderr",
     "output_type": "stream",
     "text": [
      "100%|██████████| 782/782 [06:26<00:00,  2.02it/s]\n",
      "100%|██████████| 157/157 [00:44<00:00,  3.55it/s]\n"
     ]
    },
    {
     "name": "stdout",
     "output_type": "stream",
     "text": [
      "Epoch: 4 -- train Loss: 0.3631 \t valid Loss: 0.3504 \t train acc.:0.758 \t val acc.:0.7668\n"
     ]
    },
    {
     "name": "stderr",
     "output_type": "stream",
     "text": [
      "100%|██████████| 782/782 [06:27<00:00,  2.02it/s]\n",
      "100%|██████████| 157/157 [00:44<00:00,  3.55it/s]\n"
     ]
    },
    {
     "name": "stdout",
     "output_type": "stream",
     "text": [
      "Epoch: 5 -- train Loss: 0.3189 \t valid Loss: 0.3285 \t train acc.:0.7752 \t val acc.:0.7827\n"
     ]
    },
    {
     "name": "stderr",
     "output_type": "stream",
     "text": [
      "100%|██████████| 782/782 [06:38<00:00,  1.96it/s]\n",
      "100%|██████████| 157/157 [00:45<00:00,  3.48it/s]\n"
     ]
    },
    {
     "name": "stdout",
     "output_type": "stream",
     "text": [
      "Epoch: 6 -- train Loss: 0.2934 \t valid Loss: 0.3002 \t train acc.:0.7893 \t val acc.:0.7957\n"
     ]
    },
    {
     "name": "stderr",
     "output_type": "stream",
     "text": [
      "100%|██████████| 782/782 [06:39<00:00,  1.96it/s]\n",
      "100%|██████████| 157/157 [00:45<00:00,  3.47it/s]\n"
     ]
    },
    {
     "name": "stdout",
     "output_type": "stream",
     "text": [
      "Epoch: 7 -- train Loss: 0.2641 \t valid Loss: 0.3089 \t train acc.:0.8016 \t val acc.:0.8069\n"
     ]
    },
    {
     "name": "stderr",
     "output_type": "stream",
     "text": [
      "100%|██████████| 782/782 [06:39<00:00,  1.96it/s]\n",
      "100%|██████████| 157/157 [00:45<00:00,  3.46it/s]\n"
     ]
    },
    {
     "name": "stdout",
     "output_type": "stream",
     "text": [
      "Epoch: 8 -- train Loss: 0.2457 \t valid Loss: 0.2803 \t train acc.:0.8119 \t val acc.:0.8166\n"
     ]
    },
    {
     "name": "stderr",
     "output_type": "stream",
     "text": [
      "100%|██████████| 782/782 [06:39<00:00,  1.96it/s]\n",
      "100%|██████████| 157/157 [00:45<00:00,  3.47it/s]\n"
     ]
    },
    {
     "name": "stdout",
     "output_type": "stream",
     "text": [
      "Epoch: 9 -- train Loss: 0.2289 \t valid Loss: 0.266 \t train acc.:0.8211 \t val acc.:0.8253\n"
     ]
    },
    {
     "name": "stderr",
     "output_type": "stream",
     "text": [
      "100%|██████████| 782/782 [06:39<00:00,  1.96it/s]\n",
      "100%|██████████| 157/157 [00:45<00:00,  3.49it/s]\n"
     ]
    },
    {
     "name": "stdout",
     "output_type": "stream",
     "text": [
      "Epoch: 10 -- train Loss: 0.2127 \t valid Loss: 0.2624 \t train acc.:0.8293 \t val acc.:0.833\n"
     ]
    },
    {
     "name": "stderr",
     "output_type": "stream",
     "text": [
      "100%|██████████| 782/782 [06:40<00:00,  1.95it/s]\n",
      "100%|██████████| 157/157 [00:45<00:00,  3.43it/s]\n"
     ]
    },
    {
     "name": "stdout",
     "output_type": "stream",
     "text": [
      "Epoch: 11 -- train Loss: 0.1968 \t valid Loss: 0.2442 \t train acc.:0.8366 \t val acc.:0.84\n"
     ]
    },
    {
     "name": "stderr",
     "output_type": "stream",
     "text": [
      "100%|██████████| 782/782 [06:40<00:00,  1.95it/s]\n",
      "100%|██████████| 157/157 [00:45<00:00,  3.48it/s]\n"
     ]
    },
    {
     "name": "stdout",
     "output_type": "stream",
     "text": [
      "Epoch: 12 -- train Loss: 0.1844 \t valid Loss: 0.2683 \t train acc.:0.8434 \t val acc.:0.8463\n"
     ]
    },
    {
     "name": "stderr",
     "output_type": "stream",
     "text": [
      "100%|██████████| 782/782 [06:39<00:00,  1.96it/s]\n",
      "100%|██████████| 157/157 [00:45<00:00,  3.48it/s]\n"
     ]
    },
    {
     "name": "stdout",
     "output_type": "stream",
     "text": [
      "Epoch: 13 -- train Loss: 0.1726 \t valid Loss: 0.2221 \t train acc.:0.8492 \t val acc.:0.8521\n"
     ]
    },
    {
     "name": "stderr",
     "output_type": "stream",
     "text": [
      "100%|██████████| 782/782 [06:38<00:00,  1.96it/s]\n",
      "100%|██████████| 157/157 [00:45<00:00,  3.48it/s]"
     ]
    },
    {
     "name": "stdout",
     "output_type": "stream",
     "text": [
      "Epoch: 14 -- train Loss: 0.1628 \t valid Loss: 0.211 \t train acc.:0.8548 \t val acc.:0.8574\n"
     ]
    },
    {
     "name": "stderr",
     "output_type": "stream",
     "text": [
      "\n"
     ]
    }
   ],
   "source": [
    "loss_fn = nn.BCELoss()\n",
    "\n",
    "params = model.parameters()\n",
    "learning_rate = 3e-4\n",
    "optimizer = torch.optim.Adam(params, lr=learning_rate)\n",
    "\n",
    "# train the model\n",
    "train(model=model, optimizer=optimizer, train_loader=train_loader, val_loader=valid_loader, loss_fn=loss_fn, epochs=15)"
   ]
  },
  {
   "cell_type": "code",
   "execution_count": 78,
   "metadata": {},
   "outputs": [
    {
     "name": "stderr",
     "output_type": "stream",
     "text": [
      "100%|██████████| 157/157 [00:44<00:00,  3.49it/s]\n"
     ]
    },
    {
     "data": {
      "text/plain": [
       "0.9147980604202125"
      ]
     },
     "execution_count": 78,
     "metadata": {},
     "output_type": "execute_result"
    }
   ],
   "source": [
    "get_test_acc(model, test_loader)"
   ]
  },
  {
   "cell_type": "code",
   "execution_count": 79,
   "metadata": {},
   "outputs": [],
   "source": [
    "now = datetime.now()\n",
    "date_string = now.strftime(\"%Y-%m-%d-%H-%M-%S\")\n",
    "model_path = f\"models/face_net-{date_string}.pth\"\n",
    "torch.save(model.state_dict(), model_path)"
   ]
  }
 ],
 "metadata": {
  "kernelspec": {
   "display_name": "base",
   "language": "python",
   "name": "python3"
  },
  "language_info": {
   "codemirror_mode": {
    "name": "ipython",
    "version": 3
   },
   "file_extension": ".py",
   "mimetype": "text/x-python",
   "name": "python",
   "nbconvert_exporter": "python",
   "pygments_lexer": "ipython3",
   "version": "3.9.12"
  },
  "orig_nbformat": 4
 },
 "nbformat": 4,
 "nbformat_minor": 2
}
