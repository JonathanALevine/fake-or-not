{
 "cells": [
  {
   "cell_type": "code",
   "execution_count": 28,
   "metadata": {},
   "outputs": [],
   "source": [
    "%reset -f"
   ]
  },
  {
   "cell_type": "code",
   "execution_count": 29,
   "metadata": {},
   "outputs": [],
   "source": [
    "#!/usr/bin/env python3\n",
    "import pandas as pd\n",
    "from tqdm import tqdm\n",
    "from PIL import Image"
   ]
  },
  {
   "cell_type": "code",
   "execution_count": 30,
   "metadata": {},
   "outputs": [],
   "source": [
    "PIC_DIR = '/home/jonathan/Desktop/real-vs-fake/'"
   ]
  },
  {
   "cell_type": "code",
   "execution_count": 31,
   "metadata": {},
   "outputs": [],
   "source": [
    "def make_dataset(filename:str)->pd.DataFrame:\n",
    "    dataframe = pd.read_csv(PIC_DIR + filename)\n",
    "    dataframe = dataframe.drop(columns=['Unnamed: 0', 'original_path', 'id', 'label_str'])\n",
    "    num_rows = dataframe.shape[0]\n",
    "    for i in tqdm(range(num_rows)):\n",
    "        new_path = PIC_DIR + dataframe.iloc[i]['path']\n",
    "        dataframe.at[i, 'path'] = new_path\n",
    "    return dataframe"
   ]
  },
  {
   "cell_type": "code",
   "execution_count": 32,
   "metadata": {},
   "outputs": [],
   "source": [
    "def save_dataframe(dataframe:pd.DataFrame, filename:str)->None:\n",
    "    dataframe.to_csv(filename, index=False)"
   ]
  },
  {
   "cell_type": "code",
   "execution_count": 33,
   "metadata": {},
   "outputs": [
    {
     "name": "stderr",
     "output_type": "stream",
     "text": [
      "100%|██████████| 100000/100000 [00:03<00:00, 26810.41it/s]\n",
      "100%|██████████| 20000/20000 [00:00<00:00, 26915.35it/s]\n",
      "100%|██████████| 20000/20000 [00:00<00:00, 26791.57it/s]\n"
     ]
    }
   ],
   "source": [
    "train_df = make_dataset('train.csv')\n",
    "val_df = make_dataset('valid.csv')\n",
    "test_df = make_dataset('test.csv')"
   ]
  },
  {
   "cell_type": "code",
   "execution_count": 34,
   "metadata": {},
   "outputs": [],
   "source": [
    "save_dataframe(train_df, 'train.csv')\n",
    "save_dataframe(val_df, 'valid.csv')\n",
    "save_dataframe(test_df, 'test.csv')"
   ]
  },
  {
   "cell_type": "code",
   "execution_count": 35,
   "metadata": {},
   "outputs": [
    {
     "data": {
      "text/html": [
       "<div>\n",
       "<style scoped>\n",
       "    .dataframe tbody tr th:only-of-type {\n",
       "        vertical-align: middle;\n",
       "    }\n",
       "\n",
       "    .dataframe tbody tr th {\n",
       "        vertical-align: top;\n",
       "    }\n",
       "\n",
       "    .dataframe thead th {\n",
       "        text-align: right;\n",
       "    }\n",
       "</style>\n",
       "<table border=\"1\" class=\"dataframe\">\n",
       "  <thead>\n",
       "    <tr style=\"text-align: right;\">\n",
       "      <th></th>\n",
       "      <th>label</th>\n",
       "      <th>path</th>\n",
       "    </tr>\n",
       "  </thead>\n",
       "  <tbody>\n",
       "    <tr>\n",
       "      <th>0</th>\n",
       "      <td>1</td>\n",
       "      <td>/home/jonathan/Desktop/real-vs-fake/train/real...</td>\n",
       "    </tr>\n",
       "    <tr>\n",
       "      <th>1</th>\n",
       "      <td>1</td>\n",
       "      <td>/home/jonathan/Desktop/real-vs-fake/train/real...</td>\n",
       "    </tr>\n",
       "    <tr>\n",
       "      <th>2</th>\n",
       "      <td>1</td>\n",
       "      <td>/home/jonathan/Desktop/real-vs-fake/train/real...</td>\n",
       "    </tr>\n",
       "    <tr>\n",
       "      <th>3</th>\n",
       "      <td>1</td>\n",
       "      <td>/home/jonathan/Desktop/real-vs-fake/train/real...</td>\n",
       "    </tr>\n",
       "    <tr>\n",
       "      <th>4</th>\n",
       "      <td>1</td>\n",
       "      <td>/home/jonathan/Desktop/real-vs-fake/train/real...</td>\n",
       "    </tr>\n",
       "    <tr>\n",
       "      <th>...</th>\n",
       "      <td>...</td>\n",
       "      <td>...</td>\n",
       "    </tr>\n",
       "    <tr>\n",
       "      <th>99995</th>\n",
       "      <td>0</td>\n",
       "      <td>/home/jonathan/Desktop/real-vs-fake/train/fake...</td>\n",
       "    </tr>\n",
       "    <tr>\n",
       "      <th>99996</th>\n",
       "      <td>0</td>\n",
       "      <td>/home/jonathan/Desktop/real-vs-fake/train/fake...</td>\n",
       "    </tr>\n",
       "    <tr>\n",
       "      <th>99997</th>\n",
       "      <td>0</td>\n",
       "      <td>/home/jonathan/Desktop/real-vs-fake/train/fake...</td>\n",
       "    </tr>\n",
       "    <tr>\n",
       "      <th>99998</th>\n",
       "      <td>0</td>\n",
       "      <td>/home/jonathan/Desktop/real-vs-fake/train/fake...</td>\n",
       "    </tr>\n",
       "    <tr>\n",
       "      <th>99999</th>\n",
       "      <td>0</td>\n",
       "      <td>/home/jonathan/Desktop/real-vs-fake/train/fake...</td>\n",
       "    </tr>\n",
       "  </tbody>\n",
       "</table>\n",
       "<p>100000 rows × 2 columns</p>\n",
       "</div>"
      ],
      "text/plain": [
       "       label                                               path\n",
       "0          1  /home/jonathan/Desktop/real-vs-fake/train/real...\n",
       "1          1  /home/jonathan/Desktop/real-vs-fake/train/real...\n",
       "2          1  /home/jonathan/Desktop/real-vs-fake/train/real...\n",
       "3          1  /home/jonathan/Desktop/real-vs-fake/train/real...\n",
       "4          1  /home/jonathan/Desktop/real-vs-fake/train/real...\n",
       "...      ...                                                ...\n",
       "99995      0  /home/jonathan/Desktop/real-vs-fake/train/fake...\n",
       "99996      0  /home/jonathan/Desktop/real-vs-fake/train/fake...\n",
       "99997      0  /home/jonathan/Desktop/real-vs-fake/train/fake...\n",
       "99998      0  /home/jonathan/Desktop/real-vs-fake/train/fake...\n",
       "99999      0  /home/jonathan/Desktop/real-vs-fake/train/fake...\n",
       "\n",
       "[100000 rows x 2 columns]"
      ]
     },
     "execution_count": 35,
     "metadata": {},
     "output_type": "execute_result"
    }
   ],
   "source": [
    "train_df"
   ]
  }
 ],
 "metadata": {
  "kernelspec": {
   "display_name": "base",
   "language": "python",
   "name": "python3"
  },
  "language_info": {
   "codemirror_mode": {
    "name": "ipython",
    "version": 3
   },
   "file_extension": ".py",
   "mimetype": "text/x-python",
   "name": "python",
   "nbconvert_exporter": "python",
   "pygments_lexer": "ipython3",
   "version": "3.9.12"
  },
  "orig_nbformat": 4
 },
 "nbformat": 4,
 "nbformat_minor": 2
}
